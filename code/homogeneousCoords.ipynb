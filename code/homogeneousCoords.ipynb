{
  "cells": [
    {
      "cell_type": "markdown",
      "metadata": {
        "id": "view-in-github",
        "colab_type": "text"
      },
      "source": [
        "<a href=\"https://colab.research.google.com/github/eraldoribeiro/homogeneousCoordinates/blob/main/code/homogeneousCoords.ipynb\" target=\"_parent\"><img src=\"https://colab.research.google.com/assets/colab-badge.svg\" alt=\"Open In Colab\"/></a>"
      ]
    },
    {
      "cell_type": "markdown",
      "id": "former-melissa",
      "metadata": {
        "id": "former-melissa"
      },
      "source": [
        "# Homogeneous coordinates"
      ]
    },
    {
      "cell_type": "markdown",
      "id": "secret-maple",
      "metadata": {
        "id": "secret-maple"
      },
      "source": [
        "Linear geometric transformations can be written as concise equations using \n",
        "matrix multiplication. For instance, let the following transformation maps a \n",
        "vector ${\\bf x}$ onto a vector ${\\bf x}^\\prime$: \n",
        "\n",
        "$${\\bf x}^\\prime = SR\\,{\\bf x},$$\n",
        "\n",
        "where $S$ is a scaling matrix and $R$ is a rotation matrix. $S$ and $R$ are \n",
        "linear transformations, and so is the composition $SR$. \n",
        "\n",
        "This compact form of the transformation matrix simplifies both its computation \n",
        "and notation. For example, we can change the order in which the transformations \n",
        "are applied by simply changing the order of multiplication, i.e.:  \n",
        "\n",
        "$${\\bf x}^{\\prime\\prime} = RS\\,{\\bf x},$$\n",
        "\n",
        "or we can calculate the inverse transformation directly, i.e., the inverse \n",
        "of ${\\bf x}^\\prime = SR\\,{\\bf x}$ can be written as: \n",
        "\n",
        "${\\bf x} = (SR)^{-1}\\,{\\bf x}^\\prime = (R^{-1}S^{-1})\\,{\\bf x}^\\prime$.\n",
        "\n",
        "However, this compact notation breaks if the transformation includes a translation \n",
        "(i.e., for affine transformations). An affine transformation includes a linear \n",
        "component and a translation component and is written as follows:\n",
        "\n",
        "${\\bf x}^\\prime = A{\\bf x} + {\\bf t} $.  \n",
        "\n",
        "In 2-D, the matrix form of the affine transformation can be written explicitly \n",
        "as: \n",
        "\n",
        "$$\\left[\\begin{array}{c}\t\tx^\\prime \\\\\t\ty^\\prime\\end{array}\\right] = \\left[\\begin{array}{c}\t\t\n",
        "a_1 & a_2 \\\\\t\ta_3 & a_4\\end{array}\\right]\\left[\\begin{array}{c}    x \\\\        \n",
        "y\\end{array}\\right]+\\left[\\begin{array}{c}    t_x \\\\        t_y\\end{array}\\right]$$\n",
        "\n",
        "Now, the transformation notation combines a multiplication followed by a addition. \n",
        "It can no longer be represented by a single matrix or by multiplications only \n",
        "(i.e., we have to mix multiplication and addition).  "
      ]
    },
    {
      "cell_type": "code",
      "execution_count": 1,
      "id": "subjective-series",
      "metadata": {
        "id": "subjective-series"
      },
      "outputs": [],
      "source": [
        "import numpy as np\n",
        "import matplotlib.pyplot as plt\n",
        "import matplotlib as mpl\n",
        "\n",
        "#from shapely.geometry.polygon import Polygon\n",
        "#import shapely.ops as so\n",
        "#import geopandas as gpd\n",
        "#from shapely import MultiPolygon\n",
        "#from shapely.plotting import plot_polygon, plot_points"
      ]
    },
    {
      "cell_type": "markdown",
      "id": "english-comparison",
      "metadata": {
        "id": "english-comparison"
      },
      "source": [
        "### Creating a (helper) function that displays two shapes \n",
        "The example described in this code will display the two shapes so we can compare the original shape and its transformed version.\n",
        "The following function displays the two shapes on a single axis for visualization purposes. "
      ]
    },
    {
      "cell_type": "code",
      "execution_count": 2,
      "id": "cheap-mississippi",
      "metadata": {
        "id": "cheap-mississippi"
      },
      "outputs": [],
      "source": [
        "def plotTwoPolygons(X1: np.ndarray = np.array([]), \n",
        "                    X2: np.ndarray = np.array([]),\n",
        "                    plot_title: str = None):\n",
        "    \"\"\"\n",
        "    Plots two polygons. It is just a helper function to show the \n",
        "    difference between the original 2-D shape and its transformed \n",
        "    version after some linear transformation. \n",
        "\n",
        "    Parameters\n",
        "    ----------\n",
        "    X1: numpy.ndarray, shape=(2, N)\n",
        "        2 x N array containing the (x, y) coordinates of a polygon\n",
        "        \n",
        "    X2: numpy.ndarray, shape=(2, N)\n",
        "        2 x N array containing the (x, y) coordinates of a polygon\n",
        "\n",
        "    Returns\n",
        "    -------\n",
        "    Nothing.\n",
        "\n",
        "    \"\"\"\n",
        "     \n",
        "    fig = plt.figure()\n",
        "    ax = fig.add_subplot(111)\n",
        "    ax.set_xlim(-1,10)\n",
        "    ax.set_ylim(-1,10)\n",
        "    plt.grid(True)\n",
        "\n",
        "    if X1.size != 0:\n",
        "        poly1 = mpl.patches.Polygon(X1.transpose(),fc='blue',alpha=0.5,zorder=1,linewidth=2,edgecolor='k')\n",
        "        ax.add_patch(poly1)\n",
        "        ax.plot(X1[0,:], X1[1,:], 'bo')  # plot x and y using circle markers\n",
        "       \n",
        "        \n",
        "    if X2.size != 0: \n",
        "        poly2 = mpl.patches.Polygon(X2.transpose(),fc='red',alpha=0.5,zorder=99,linewidth=2,edgecolor='k')\n",
        "        ax.add_patch(poly2)\n",
        "        ax.plot(X2[0,:], X2[1,:], 'ro')  # plot x and y using circle markers\n",
        "\n",
        "\n",
        "    plt.title(plot_title)\n",
        "\n",
        "    plt.show()  "
      ]
    },
    {
      "cell_type": "markdown",
      "id": "descending-horse",
      "metadata": {
        "tags": [],
        "id": "descending-horse"
      },
      "source": [
        "### The shape to be transformed\n",
        "\n",
        "The example is a rectangle given by four vertices."
      ]
    },
    {
      "cell_type": "code",
      "execution_count": 3,
      "id": "spare-camping",
      "metadata": {
        "id": "spare-camping",
        "outputId": "35460683-3cca-424a-f287-13382b462294",
        "colab": {
          "base_uri": "https://localhost:8080/"
        }
      },
      "outputs": [
        {
          "output_type": "stream",
          "name": "stdout",
          "text": [
            "Input shape =\n",
            " [[0 4 4 0 0]\n",
            " [0 0 2 2 0]]\n"
          ]
        }
      ],
      "source": [
        "# Vertices of a polygon. First vertex is repeated to \n",
        "# close the polygon shape. \n",
        "px = np.array([0, 4, 4, 0, 0]);   # x-coords\n",
        "py = np.array([0, 0, 2, 2, 0]);   # y-coords  \n",
        "\n",
        "# Create a 2 x N matrix to store the coordinates of the shape\n",
        "X = np.array([px, \n",
        "              py])\n",
        "\n",
        "print(\"Input shape =\\n\", X)"
      ]
    },
    {
      "cell_type": "code",
      "execution_count": 4,
      "id": "associate-suicide",
      "metadata": {
        "id": "associate-suicide",
        "outputId": "80c38b90-0879-44e1-d7ee-89add2da425e",
        "colab": {
          "base_uri": "https://localhost:8080/",
          "height": 282
        }
      },
      "outputs": [
        {
          "output_type": "display_data",
          "data": {
            "text/plain": [
              "<Figure size 432x288 with 1 Axes>"
            ],
            "image/png": "[encoded data removed]"
          },
          "metadata": {
            "needs_background": "light"
          }
        }
      ],
      "source": [
        "# Plot the orginal shape\n",
        "plotTwoPolygons(X1 = X, plot_title = \"Original shape\")"
      ]
    },
    {
      "cell_type": "markdown",
      "id": "smoking-trouble",
      "metadata": {
        "id": "smoking-trouble"
      },
      "source": [
        "### Transformations\n",
        "Transformations will be Scaling, Rotation, and translation."
      ]
    },
    {
      "cell_type": "code",
      "execution_count": 5,
      "id": "bacterial-reconstruction",
      "metadata": {
        "id": "bacterial-reconstruction",
        "outputId": "956b4a6c-87df-45fc-b0f5-f5d4898dfe9a",
        "colab": {
          "base_uri": "https://localhost:8080/"
        }
      },
      "outputs": [
        {
          "output_type": "stream",
          "name": "stdout",
          "text": [
            "Scaling matrix =\n",
            " [[2. 0.]\n",
            " [0. 1.]]\n",
            "\n",
            "Rotation matrix =\n",
            " [[ 0.92387953 -0.38268343]\n",
            " [ 0.38268343  0.92387953]]\n",
            "\n",
            "Translation vector =\n",
            " [[2]\n",
            " [3]]\n"
          ]
        }
      ],
      "source": [
        "# An example of an affine transformation  \n",
        "# Scaling transformation (explicit form)\n",
        "S = np.array([[2.0, 0.0], \n",
        "             [0.0, 1.0]])\n",
        "S\n",
        "\n",
        "# Rotation\n",
        "theta = np.pi/8.0 \n",
        "R = np.array([[ np.cos(theta), -np.sin(theta)],\n",
        "              [ np.sin(theta),  np.cos(theta)]])\n",
        "\n",
        "# Translation part of the affine transformation\n",
        "t = np.array([ [2],  \n",
        "               [3] ] )\n",
        "\n",
        "print(\"Scaling matrix =\\n\", S)\n",
        "print(\"\")\n",
        "print(\"Rotation matrix =\\n\", R)\n",
        "print(\"\")\n",
        "print(\"Translation vector =\\n\", t)"
      ]
    },
    {
      "cell_type": "markdown",
      "id": "crucial-knight",
      "metadata": {
        "id": "crucial-knight"
      },
      "source": [
        "### Apply transformation to shape\n",
        "The transformation that we will apply to the rectangle is a Rotation followed by a Scaling and then a Translation, i.e.: \n",
        "\n",
        "$$\n",
        "\\begin{align}\n",
        "    {\\bf x}^\\prime = (SR)\\,{\\bf x} + {\\bf t}\n",
        "\\end{align}\n",
        "$$"
      ]
    },
    {
      "cell_type": "code",
      "execution_count": 6,
      "id": "opponent-clothing",
      "metadata": {
        "id": "opponent-clothing",
        "outputId": "c14833d5-10a0-47ef-ea9b-53477bff220d",
        "colab": {
          "base_uri": "https://localhost:8080/"
        }
      },
      "outputs": [
        {
          "output_type": "stream",
          "name": "stdout",
          "text": [
            "Transformed points:\n"
          ]
        },
        {
          "output_type": "execute_result",
          "data": {
            "text/plain": [
              "array([[2.        , 9.39103626, 7.86030253, 0.46926627, 2.        ],\n",
              "       [3.        , 4.53073373, 6.37849279, 4.84775907, 3.        ]])"
            ]
          },
          "metadata": {},
          "execution_count": 6
        }
      ],
      "source": [
        "Xp = (S @ R) @ X + t\n",
        "print(\"Transformed points:\")\n",
        "Xp"
      ]
    },
    {
      "cell_type": "code",
      "execution_count": 7,
      "id": "compatible-occupation",
      "metadata": {
        "id": "compatible-occupation",
        "outputId": "16c7c829-8f0f-4d83-e78b-14b7559512c5",
        "colab": {
          "base_uri": "https://localhost:8080/",
          "height": 282
        }
      },
      "outputs": [
        {
          "output_type": "display_data",
          "data": {
            "text/plain": [
              "<Figure size 432x288 with 1 Axes>"
            ],
            "image/png": "[encoded data removed]"
          },
          "metadata": {
            "needs_background": "light"
          }
        }
      ],
      "source": [
        "# Plot the original and the transformed shape\n",
        "plotTwoPolygons(X1 = X, X2 = Xp, plot_title = \"Original and transformed shape\")"
      ]
    },
    {
      "cell_type": "markdown",
      "id": "tracked-locking",
      "metadata": {
        "id": "tracked-locking"
      },
      "source": [
        "### Example using the inverse affine transformation\n",
        "\n",
        "To see how the inclusion of the translation further complicates the matrix notation, let us calculate the inverse of the affine transformation in the previous equation. The inverse of ${\\bf x}^\\prime = (SR)\\,{\\bf x} + {\\bf t}$ is:\n",
        "$$\n",
        "\\begin{align}\n",
        "{\\bf x} &= (SR)^{-1}\\left({\\bf x}^\\prime - {\\bf t}\\right) \\\\\n",
        "        &= R^{-1}S^{-1}\\left({\\bf x}^\\prime - {\\bf t}\\right) \\\\\n",
        "        &= R^{-1}S^{-1}{\\bf x}^\\prime - R^{-1}S^{-1}{\\bf t}. \n",
        "        \\label{inverseT}\n",
        "\\end{align}\n",
        "$$\n",
        "\n",
        "With this inverse equation, we can go from the transformed shape back to the original shape. Let's do exactly that in the next example."
      ]
    },
    {
      "cell_type": "code",
      "execution_count": 8,
      "id": "private-disability",
      "metadata": {
        "id": "private-disability",
        "outputId": "651e53ca-4562-461c-fb9a-c47d33d9a18b",
        "colab": {
          "base_uri": "https://localhost:8080/"
        }
      },
      "outputs": [
        {
          "output_type": "stream",
          "name": "stdout",
          "text": [
            "Shape to be transformed:\n"
          ]
        },
        {
          "output_type": "execute_result",
          "data": {
            "text/plain": [
              "array([[2.        , 9.39103626, 7.86030253, 0.46926627, 2.        ],\n",
              "       [3.        , 4.53073373, 6.37849279, 4.84775907, 3.        ]])"
            ]
          },
          "metadata": {},
          "execution_count": 8
        }
      ],
      "source": [
        "# Input shape is the transformed shape from the previous example\n",
        "print(\"Shape to be transformed:\")\n",
        "Xp"
      ]
    },
    {
      "cell_type": "code",
      "execution_count": 9,
      "id": "atomic-harvard",
      "metadata": {
        "id": "atomic-harvard",
        "outputId": "fcea9b3e-1f90-49cb-e086-668e3e6ede85",
        "colab": {
          "base_uri": "https://localhost:8080/",
          "height": 282
        }
      },
      "outputs": [
        {
          "output_type": "display_data",
          "data": {
            "text/plain": [
              "<Figure size 432x288 with 1 Axes>"
            ],
            "image/png": "[encoded data removed]"
          },
          "metadata": {
            "needs_background": "light"
          }
        }
      ],
      "source": [
        "# This time, let's display the transformed shape in blue to indicate that it is our start shape, before transformation. \n",
        "plotTwoPolygons(X1 = Xp, plot_title = \"Original shape is the transformed shape from the previous example\")"
      ]
    },
    {
      "cell_type": "code",
      "execution_count": 10,
      "id": "brown-unemployment",
      "metadata": {
        "id": "brown-unemployment",
        "outputId": "4f20b8f7-c0c4-4e06-df53-a83638a2ac1d",
        "colab": {
          "base_uri": "https://localhost:8080/"
        }
      },
      "outputs": [
        {
          "output_type": "stream",
          "name": "stdout",
          "text": [
            "This is the shape resulting from the inverse affine transformation:\n",
            "\n",
            "Xi =\n",
            " [[0.0000000e+00 4.0000000e+00 4.0000000e+00 4.4408921e-16 0.0000000e+00]\n",
            " [0.0000000e+00 4.4408921e-16 2.0000000e+00 2.0000000e+00 0.0000000e+00]]\n"
          ]
        }
      ],
      "source": [
        "# Calculate the shape produced by the inverse affine \n",
        "Xi = np.linalg.inv(R) @ np.linalg.inv(S) @ Xp - np.linalg.inv(R) @ np.linalg.inv(S) @ t \n",
        "\n",
        "# Transform this shape using the inverse affine matrix \n",
        "print('This is the shape resulting from the inverse affine transformation:\\n')\n",
        "print('Xi =\\n', Xi)"
      ]
    },
    {
      "cell_type": "code",
      "execution_count": 11,
      "id": "minimal-physics",
      "metadata": {
        "id": "minimal-physics",
        "outputId": "684acf2a-0bd4-49a4-d8ee-6d7783de4203",
        "colab": {
          "base_uri": "https://localhost:8080/",
          "height": 282
        }
      },
      "outputs": [
        {
          "output_type": "display_data",
          "data": {
            "text/plain": [
              "<Figure size 432x288 with 1 Axes>"
            ],
            "image/png": "[encoded data removed]"
          },
          "metadata": {
            "needs_background": "light"
          }
        }
      ],
      "source": [
        "# Display both shapes (original and transformed)\n",
        "plotTwoPolygons(X1 = Xp, X2 = Xi, plot_title = \"Inverse transformation recovers the original shape\")"
      ]
    },
    {
      "cell_type": "markdown",
      "id": "suffering-breath",
      "metadata": {
        "id": "suffering-breath"
      },
      "source": [
        "### Coverting to homogeneous coordinates and representing transformations\n",
        "The matrix notation of affine transformations can be made more concise by \n",
        "using *Homogeneous coordinates* instead of Cartesian coordinates. This is done \n",
        "by augmenting the Cartesian coordinates with an extra non-zero coordinate value, \n",
        "which is usually chosen to be 1, for simplicity.\n",
        "\n",
        "To convert points from Cartesian to Homogeneous coordinates, \n",
        "we simply augment the original vector by adding 1 as an extra coordinate (i.e., \n",
        "dimension), i.e.: \n",
        "\n",
        "$$\n",
        "\\left[\\begin{array}{c}\t\t\n",
        "    x \\\\\t\ty \n",
        "\\end{array}\\right] \n",
        "\\rightarrow\\lambda\\left[\n",
        "\\begin{array}{c}\t\t\n",
        "    x \\\\\t\ty \\\\                1\n",
        "\\end{array}\\right].\n",
        "$$\n",
        "\n",
        "While this new vector is in 3 dimensions, it is still a 2-D point. To convert homogenous coordinates back to Cartesian, we need only to divide \n",
        "the homogeneous coordinates as follows: \n",
        "\n",
        "$$\\lambda\\left[\\begin{array}{c}\t\tx \\\\\t\ty \\\\                1\\end{array}\\right]\\rightarrow\\left[\\begin{array}{c}\t\t\n",
        "x / \\lambda\\\\\t\ty / \\lambda\\end{array}\\right]. $$\n",
        "\n",
        "Because, we augmented the vectors, we must also augment the transformation \n",
        "matrices that will act on those vectors. \n"
      ]
    },
    {
      "cell_type": "markdown",
      "id": "addressed-venice",
      "metadata": {
        "id": "addressed-venice"
      },
      "source": [
        "### The affine transformation in homogeneous coordinates\n",
        "Let us now repeat our previous examples of affine transformations  but this \n",
        "time using homogeneous coordinates instead of Cartesian. The 2-D affine transformation \n",
        "in homogeneous coordinates is given by: \n",
        "\n",
        "$\\left[\\begin{array}{c}\t\tx^\\prime \\\\\t\ty^\\prime \\\\                 1\\end{array}\\right] \n",
        "= \\left[\\begin{array}{c}\t\ta_1 & a_2  & t_x\\\\\t\ta_3 & a_4  & t_y\\\\                  \n",
        "0  &   0    &   1\\end{array}\\right]\\left[\\begin{array}{c}    x \\\\        y \\\\    \n",
        "1\\end{array}\\right]$.\n",
        "\n",
        "This single matrix in homogeneous coordinates incorporates both the linear \n",
        "part of the affine and its translation. In homogeneous coordinates, the scaling \n",
        "matrix is: \n",
        "\n",
        "$S_h = \\left[\\begin{array}{c}\t\ts_x & 0  &     0\\\\\t\t0 & s_y  &  0\\\\                  \n",
        "0  &   0    &   1\\end{array}\\right]$,\n",
        "\n",
        "and the rotation is given by: \n",
        "\n",
        "$R_h= \\left[\\begin{array}{c}\t\t\\cos\\theta & -\\sin\\theta & 0 \\\\\t\t\\sin\\theta \n",
        "& \\cos\\theta & 0 \\\\\t\t0 & 0 & 1 \\end{array}\\right]$.\n",
        "\n",
        "Most importantly, we can now also represent the translation as a matrix, which \n",
        "is something that we could not do in Cartesian coordinates. The 2-D *translation \n",
        "matrix* is given by: \n",
        "\n",
        "$T_h = \\left[\\begin{array}{c}\t\t1 & 0 & t_x \\\\\t\t0 & 1 & t_y \\\\\t\t0 & 0 & 1 \\end{array}\\right]$.\n",
        "\n",
        "In homogeneous coordinates, we can write compositions and inverses of \n",
        "transformations more concisely than in Cartesian coordinates. For example, the transformation: \n",
        "\n",
        "\n",
        "$$\n",
        "\\begin{align}\n",
        "\t{\\bf x}^\\prime = SR\\,{\\bf x} + {\\bf t},  \n",
        "\\end{align}\n",
        "$$\n",
        "\n",
        "can be written in homogeneous coordinates as:\n",
        "\n",
        "$$\n",
        "\\begin{align}\n",
        "\t\\tilde{\\bf x}^\\prime = T_hS_hR_h\\,\\tilde{\\bf x}.\n",
        "\\end{align}\n",
        "$$\n",
        "\n",
        "\n",
        "Its inverse would be simply: \n",
        "\n",
        "$$\n",
        "\\begin{align}\n",
        " \\tilde{\\bf x}   &= \\left(T_h\\,S_h\\,R_h\\right)^{-1}\\,\\tilde{\\bf x}^\\prime \\\\\n",
        "                 &= R_h^{-1}\\,S_h^{-1}\\,T_h^{-1}\\,\\tilde{\\bf x}^\\prime.\n",
        "\\end{align}\n",
        "$$\n",
        "\n",
        "In these equations, the subscript $h$ is being used to indicate the homogeneous \n",
        "version of the transformation. However, we do not usually explicitly differentiate \n",
        "the transformations.  "
      ]
    },
    {
      "cell_type": "markdown",
      "id": "breathing-corpus",
      "metadata": {
        "id": "breathing-corpus"
      },
      "source": [
        "### Example"
      ]
    },
    {
      "cell_type": "code",
      "execution_count": 12,
      "id": "welcome-customs",
      "metadata": {
        "id": "welcome-customs",
        "outputId": "f51b9595-644e-411a-8ab5-58fe82ba5cf9",
        "colab": {
          "base_uri": "https://localhost:8080/"
        }
      },
      "outputs": [
        {
          "output_type": "stream",
          "name": "stdout",
          "text": [
            "2-D Scaling in homogeneous coordinates:\n",
            "\n",
            "S_h =  [[2. 0. 0.]\n",
            "        [0. 1. 0.]\n",
            "        [0. 0. 1.]]\n",
            "\n",
            "2-D Rotation in homogeneous coordinates:\n",
            "\n",
            "R_h =  [[ 0.92387953 -0.38268343  0.        ]\n",
            "        [ 0.38268343  0.92387953  0.        ]\n",
            "        [ 0.          0.          1.        ]]\n",
            "\n",
            "2-D Translation in homogeneous coordinates:\n",
            "\n",
            "T_h =  [[1. 0. 2.]\n",
            "        [0. 1. 3.]\n",
            "        [0. 0. 1.]]\n"
          ]
        }
      ],
      "source": [
        "# An example of an affine transformation in homogeneous coordinates (using block notation of matrices). \n",
        "# I am re-using and augmenting the previous transformation matrices.\n",
        "\n",
        "# Scaling\n",
        "S_h = np.block([[S,                np.zeros((2, 1))],\n",
        "                [np.zeros((1, 2)),                1]])\n",
        "print('2-D Scaling in homogeneous coordinates:\\n') \n",
        "print('S_h = ', np.array2string(S_h, prefix='Array: '))\n",
        "\n",
        "# Rotation\n",
        "R_h = np.block([[R,                np.zeros((2, 1))],\n",
        "                [np.zeros((1, 2)),                1]])\n",
        "print('\\n2-D Rotation in homogeneous coordinates:\\n') \n",
        "print('R_h = ', np.array2string(R_h, prefix='Array: '))\n",
        "\n",
        "# Translation \n",
        "T_h = np.block([[np.eye(2,2),                     t],\n",
        "                [np.zeros((1, 2)),                1]])\n",
        "print('\\n2-D Translation in homogeneous coordinates:\\n') \n",
        "print('T_h = ', np.array2string(T_h, prefix='Array: '))\n",
        "\n",
        "\n"
      ]
    },
    {
      "cell_type": "markdown",
      "id": "graduate-ordering",
      "metadata": {
        "id": "graduate-ordering"
      },
      "source": [
        "### Shape to be transformed\n",
        "Here, we will use the same shape(s) as in the previous examples. "
      ]
    },
    {
      "cell_type": "code",
      "execution_count": 13,
      "id": "blessed-jewel",
      "metadata": {
        "id": "blessed-jewel",
        "outputId": "f210ef29-be0e-40a7-e7c7-af358cc908a1",
        "colab": {
          "base_uri": "https://localhost:8080/"
        }
      },
      "outputs": [
        {
          "output_type": "stream",
          "name": "stdout",
          "text": [
            "Input shape: \n",
            "\n",
            "X = [[0 4 4 0 0]\n",
            "     [0 0 2 2 0]]\n"
          ]
        }
      ],
      "source": [
        "print(\"Input shape: \\n\")\n",
        "print('X =', np.array2string(X, prefix='    '))"
      ]
    },
    {
      "cell_type": "code",
      "execution_count": 14,
      "id": "transparent-drove",
      "metadata": {
        "id": "transparent-drove",
        "outputId": "1990929b-73f8-4c2e-f2f7-f3fcf75c8936",
        "colab": {
          "base_uri": "https://localhost:8080/",
          "height": 282
        }
      },
      "outputs": [
        {
          "output_type": "display_data",
          "data": {
            "text/plain": [
              "<Figure size 432x288 with 1 Axes>"
            ],
            "image/png": "[encoded data removed]"
          },
          "metadata": {
            "needs_background": "light"
          }
        }
      ],
      "source": [
        "# Plot the orginal shape\n",
        "plotTwoPolygons(X1 = X, plot_title = \"Original shape\")"
      ]
    },
    {
      "cell_type": "markdown",
      "id": "geological-devices",
      "metadata": {
        "id": "geological-devices"
      },
      "source": [
        "We will then combine the transformations using matrix multiplication only to achieve the affine transformation, i.e.: \n",
        "$$\n",
        "\\begin{align}\n",
        "\t\\tilde{\\bf x}^\\prime = T_hS_hR_h\\,\\tilde{\\bf x}.\n",
        "\\end{align}\n",
        "$$\n"
      ]
    },
    {
      "cell_type": "markdown",
      "id": "driven-feedback",
      "metadata": {
        "id": "driven-feedback"
      },
      "source": [
        "Before we calculate the transformation, we need to convert the coordinates from Cartesian to homogeneous. As pointed out earlier,  \n",
        "we add 1 as an extra coordinate. We choose $\\lambda = 1$. \n",
        "$$\n",
        "\\left[\\begin{array}{c}\t\t\n",
        "    x \\\\\t\ty \n",
        "\\end{array}\\right] \n",
        "\\rightarrow\\lambda\\left[\n",
        "\\begin{array}{c}\t\t\n",
        "    x \\\\\t\ty \\\\                1\n",
        "\\end{array}\\right].\n",
        "$$\n"
      ]
    },
    {
      "cell_type": "code",
      "execution_count": 15,
      "id": "fifteen-butler",
      "metadata": {
        "id": "fifteen-butler",
        "outputId": "3a09247c-16f9-46e7-e68f-4664f291c6b8",
        "colab": {
          "base_uri": "https://localhost:8080/"
        }
      },
      "outputs": [
        {
          "output_type": "stream",
          "name": "stdout",
          "text": [
            "Input shape (homogeneous coords): \n",
            "\n",
            "X_h = [[0. 4. 4. 0. 0.]\n",
            "       [0. 0. 2. 2. 0.]\n",
            "       [1. 1. 1. 1. 1.]]\n"
          ]
        }
      ],
      "source": [
        "# Convert shape points from Cartesian to Homogeneous\n",
        "ncols = X.shape[1]\n",
        "\n",
        "X_h = np.block([[X],\n",
        "               [np.ones((1, ncols))]])\n",
        "\n",
        "\n",
        "print(\"Input shape (homogeneous coords): \\n\")\n",
        "print('X_h =', np.array2string(X_h, prefix='      '))\n",
        "\n"
      ]
    },
    {
      "cell_type": "code",
      "execution_count": 16,
      "id": "vocational-henry",
      "metadata": {
        "id": "vocational-henry",
        "outputId": "5eff0842-1726-43ac-f262-3cc11433990c",
        "colab": {
          "base_uri": "https://localhost:8080/"
        }
      },
      "outputs": [
        {
          "output_type": "stream",
          "name": "stdout",
          "text": [
            "Transformed shape (homogeneous coords): \n",
            "\n",
            "Xp_h = [[2.         9.39103626 7.86030253 0.46926627 2.        ]\n",
            "        [3.         4.53073373 6.37849279 4.84775907 3.        ]\n",
            "        [1.         1.         1.         1.         1.        ]]\n"
          ]
        }
      ],
      "source": [
        "# Affine transformation by combining transformations in homogeneous coordinates\n",
        "Xp_h = T_h @ S_h @ R_h @ X_h\n",
        "\n",
        "print(\"Transformed shape (homogeneous coords): \\n\")\n",
        "print('Xp_h =', np.array2string(Xp_h, prefix='       '))"
      ]
    },
    {
      "cell_type": "markdown",
      "id": "responsible-kidney",
      "metadata": {
        "id": "responsible-kidney"
      },
      "source": [
        "The calculations were done using homogeneous coordinates to represent the shape. The actual shape is represented in Cartesian coordinates. Thus, we must convert the shape back to Cartesian. \n",
        "\n",
        "To convert homogenous coordinates back to Cartesian, we need only to divide \n",
        "the homogeneous coordinates as follows: \n",
        "\n",
        "$$\\lambda\\left[\\begin{array}{c}\t\tx \\\\\t\ty \\\\                1\\end{array}\\right]\\rightarrow\\left[\\begin{array}{c}\t\t\n",
        "x / \\lambda\\\\\t\ty / \\lambda\\end{array}\\right]. \n",
        "$$\n"
      ]
    },
    {
      "cell_type": "code",
      "execution_count": 17,
      "id": "ecological-happening",
      "metadata": {
        "id": "ecological-happening",
        "outputId": "a0e14e36-efed-4c7a-b71c-d43547a5b49b",
        "colab": {
          "base_uri": "https://localhost:8080/"
        }
      },
      "outputs": [
        {
          "output_type": "stream",
          "name": "stdout",
          "text": [
            "Transformed shape (Cartesian coords): \n",
            "\n",
            "Xp = [[2.         9.39103626 7.86030253 0.46926627 2.        ]\n",
            "      [3.         4.53073373 6.37849279 4.84775907 3.        ]]\n"
          ]
        }
      ],
      "source": [
        "# Convert shape representation from homogeneous to Cartesian (using vectorized calculation for speed and concise code)\n",
        "Xp = Xp_h[0:2,:] / Xp_h[2,:]\n",
        "\n",
        "print(\"Transformed shape (Cartesian coords): \\n\")\n",
        "print('Xp =', np.array2string(Xp, prefix='     '))\n"
      ]
    },
    {
      "cell_type": "code",
      "execution_count": 18,
      "id": "absolute-chapter",
      "metadata": {
        "id": "absolute-chapter",
        "outputId": "ddcdd196-5449-4ddd-c518-a392f6d1afd2",
        "colab": {
          "base_uri": "https://localhost:8080/",
          "height": 282
        }
      },
      "outputs": [
        {
          "output_type": "display_data",
          "data": {
            "text/plain": [
              "<Figure size 432x288 with 1 Axes>"
            ],
            "image/png": "[encoded data removed]"
          },
          "metadata": {
            "needs_background": "light"
          }
        }
      ],
      "source": [
        "# Now, display the shape (Remember, we can only display the shape after we convert it to Cartesian coordinates)\n",
        "plotTwoPolygons(X1 = X, X2 = Xp, plot_title = \"Original and transformed shapes\")"
      ]
    },
    {
      "cell_type": "markdown",
      "id": "robust-identity",
      "metadata": {
        "id": "robust-identity"
      },
      "source": [
        "### Using the inverse in homogeneous coordinates \n",
        "The following example shows the use of the inverse transformation. This time, the notation is more concise because we will use homogeneous coordinates instead of Cartesian coordinates. \n",
        "\n",
        "Recall that the inverse of the transformation is:\n",
        "$$\n",
        "\\begin{align}\n",
        " \\tilde{\\bf x}   &= \\left(T_h\\,S_h\\,R_h\\right)^{-1}\\,\\tilde{\\bf x}^\\prime \\\\\n",
        "                 &= R_h^{-1}\\,S_h^{-1}\\,T_h^{-1}\\,\\tilde{\\bf x}^\\prime.\n",
        "\\end{align}\n",
        "$$\n"
      ]
    },
    {
      "cell_type": "code",
      "execution_count": 19,
      "id": "brazilian-participant",
      "metadata": {
        "id": "brazilian-participant",
        "outputId": "a637e5ad-a378-45ff-d89a-061e5159e507",
        "colab": {
          "base_uri": "https://localhost:8080/"
        }
      },
      "outputs": [
        {
          "output_type": "stream",
          "name": "stdout",
          "text": [
            "This is original shape calculated by the inverse transformation:\n",
            "\n",
            "Xi_h = [[0.0e+00 4.0e+00 4.0e+00 4.4e-16 0.0e+00]\n",
            "        [0.0e+00 4.4e-16 2.0e+00 2.0e+00 0.0e+00]\n",
            "        [1.0e+00 1.0e+00 1.0e+00 1.0e+00 1.0e+00]]\n"
          ]
        }
      ],
      "source": [
        "# Using the inverse transformation to revert the \"transformed\" shape to its original shape\n",
        "Xi_h = np.linalg.inv(R_h) @ np.linalg.inv(S_h) @ np.linalg.inv(T_h) @ Xp_h\n",
        "\n",
        "\n",
        "# Transform this shape using the inverse affine matrix \n",
        "print('This is original shape calculated by the inverse transformation:\\n')\n",
        "print('Xi_h =', np.array2string(Xi_h, prefix='       ', precision=1))\n"
      ]
    },
    {
      "cell_type": "code",
      "execution_count": 20,
      "id": "dimensional-presentation",
      "metadata": {
        "id": "dimensional-presentation",
        "outputId": "861f532b-6554-4e9c-8fb3-4ca79a7673c0",
        "colab": {
          "base_uri": "https://localhost:8080/",
          "height": 282
        }
      },
      "outputs": [
        {
          "output_type": "display_data",
          "data": {
            "text/plain": [
              "<Figure size 432x288 with 1 Axes>"
            ],
            "image/png": "[encoded data removed]"
          },
          "metadata": {
            "needs_background": "light"
          }
        }
      ],
      "source": [
        "# Convert shape back to Cartesian coords and display both shapes\n",
        "Xi_new = Xi_h[0:2,:] / Xi_h[2,:]\n",
        "Xp_new = Xp_h[0:2,:] / Xp_h[2,:]\n",
        "\n",
        "\n",
        "# Display both shapes (original and transformed)\n",
        "plotTwoPolygons(X1 = Xp_new, X2 = Xi_new, plot_title = \"Inverse transformation recovers the original shape\")"
      ]
    },
    {
      "cell_type": "code",
      "execution_count": 20,
      "id": "other-depth",
      "metadata": {
        "id": "other-depth"
      },
      "outputs": [],
      "source": []
    }
  ],
  "metadata": {
    "kernelspec": {
      "display_name": "Python 3",
      "language": "python",
      "name": "python3"
    },
    "language_info": {
      "codemirror_mode": {
        "name": "ipython",
        "version": 3
      },
      "file_extension": ".py",
      "mimetype": "text/x-python",
      "name": "python",
      "nbconvert_exporter": "python",
      "pygments_lexer": "ipython3",
      "version": "3.9.2"
    },
    "colab": {
      "provenance": [],
      "include_colab_link": true
    }
  },
  "nbformat": 4,
  "nbformat_minor": 5
}